{
 "cells": [
  {
   "cell_type": "markdown",
   "id": "e50b6d05-b656-4798-b169-b24578e830ec",
   "metadata": {},
   "source": [
    "  # <center> Data Cleaning and Wrangling </center>"
   ]
  },
  {
   "cell_type": "markdown",
   "id": "ac3a0f0a-81a2-4e15-91a2-2cfd3e1e7d39",
   "metadata": {},
   "source": [
    "## Step 1: Load the Data and Check for Missing Values \n",
    "First, we'll load the data and check for missing values:"
   ]
  },
  {
   "cell_type": "code",
   "execution_count": 1,
   "id": "47b200c2-720d-4b12-8a12-04bb9b355ed9",
   "metadata": {},
   "outputs": [],
   "source": [
    "import csv\n",
    "import pandas as pd"
   ]
  },
  {
   "cell_type": "code",
   "execution_count": 2,
   "id": "a7b9ed58-36d2-4187-8f1c-4a34efa3bb9b",
   "metadata": {},
   "outputs": [],
   "source": [
    "\n",
    "# Specify the path to your CSV file\n",
    "csv_file_path = '/Users/bkh42/Downloads/household_power_consumption.csv'\n"
   ]
  },
  {
   "cell_type": "code",
   "execution_count": 3,
   "id": "97fd5091-0374-488e-840f-4f265910f2f8",
   "metadata": {},
   "outputs": [
    {
     "name": "stdout",
     "output_type": "stream",
     "text": [
      "         Date      Time Global_active_power Global_reactive_power  Voltage  \\\n",
      "0  16/12/2006  17:24:00               4.216                 0.418  234.840   \n",
      "1  16/12/2006  17:25:00               5.360                 0.436  233.630   \n",
      "2  16/12/2006  17:26:00               5.374                 0.498  233.290   \n",
      "3  16/12/2006  17:27:00               5.388                 0.502  233.740   \n",
      "4  16/12/2006  17:28:00               3.666                 0.528  235.680   \n",
      "\n",
      "  Global_intensity Sub_metering_1 Sub_metering_2  Sub_metering_3  \n",
      "0           18.400          0.000          1.000            17.0  \n",
      "1           23.000          0.000          1.000            16.0  \n",
      "2           23.000          0.000          2.000            17.0  \n",
      "3           23.000          0.000          1.000            17.0  \n",
      "4           15.800          0.000          1.000            17.0  \n"
     ]
    },
    {
     "name": "stderr",
     "output_type": "stream",
     "text": [
      "/var/folders/n9/n_f49k3522s8cft5znsmh8tcn6n9rj/T/ipykernel_31462/368300479.py:1: DtypeWarning: Columns (2,3,4,5,6,7) have mixed types. Specify dtype option on import or set low_memory=False.\n",
      "  df = pd.read_csv(csv_file_path)\n"
     ]
    }
   ],
   "source": [
    "df = pd.read_csv(csv_file_path)\n",
    "\n",
    "# Use head() to display the first 5 rows\n",
    "print(df.head())\n"
   ]
  },
  {
   "cell_type": "code",
   "execution_count": 4,
   "id": "1b081e4e-e8e2-4a5d-84ee-17c8c953912c",
   "metadata": {},
   "outputs": [
    {
     "name": "stdout",
     "output_type": "stream",
     "text": [
      "         Date      Time  Global_active_power  Global_reactive_power  Voltage  \\\n",
      "0  16/12/2006  17:24:00                4.216                  0.418   234.84   \n",
      "1  16/12/2006  17:25:00                5.360                  0.436   233.63   \n",
      "2  16/12/2006  17:26:00                5.374                  0.498   233.29   \n",
      "3  16/12/2006  17:27:00                5.388                  0.502   233.74   \n",
      "4  16/12/2006  17:28:00                3.666                  0.528   235.68   \n",
      "\n",
      "   Global_intensity  Sub_metering_1  Sub_metering_2  Sub_metering_3  \n",
      "0              18.4             0.0             1.0            17.0  \n",
      "1              23.0             0.0             1.0            16.0  \n",
      "2              23.0             0.0             2.0            17.0  \n",
      "3              23.0             0.0             1.0            17.0  \n",
      "4              15.8             0.0             1.0            17.0  \n"
     ]
    }
   ],
   "source": [
    "dtype_dict = {2: 'float64', 3: 'float64', 4: 'float64', 5: 'float64', 6: 'float64', 7: 'float64'}\n",
    "df = pd.read_csv(csv_file_path, dtype=dtype_dict, na_values=['?'])\n",
    "\n",
    "# Use head() to display the first 5 rows\n",
    "print(df.head())\n"
   ]
  },
  {
   "cell_type": "code",
   "execution_count": 5,
   "id": "c34e7dcd-9eef-4f00-8748-3fc59adffa7d",
   "metadata": {},
   "outputs": [
    {
     "name": "stdout",
     "output_type": "stream",
     "text": [
      "Missing values per column:\n",
      "Date                         0\n",
      "Time                         0\n",
      "Global_active_power      25979\n",
      "Global_reactive_power    25979\n",
      "Voltage                  25979\n",
      "Global_intensity         25979\n",
      "Sub_metering_1           25979\n",
      "Sub_metering_2           25979\n",
      "Sub_metering_3           25979\n",
      "dtype: int64\n"
     ]
    }
   ],
   "source": [
    "# Check for missing values\n",
    "missing_values = df.isnull().sum()\n",
    "print(\"Missing values per column:\")\n",
    "print(missing_values)\n"
   ]
  },
  {
   "cell_type": "code",
   "execution_count": 6,
   "id": "8d5ca699-0c9a-4874-b1eb-a6505353659b",
   "metadata": {},
   "outputs": [
    {
     "data": {
      "text/plain": [
       "(2075259, 9)"
      ]
     },
     "execution_count": 6,
     "metadata": {},
     "output_type": "execute_result"
    }
   ],
   "source": [
    "df.shape"
   ]
  },
  {
   "cell_type": "code",
   "execution_count": 7,
   "id": "9e42bcb2-36a7-4961-8b99-4082d20b2018",
   "metadata": {},
   "outputs": [
    {
     "name": "stdout",
     "output_type": "stream",
     "text": [
      "\n",
      "Percentage of missing values per column:\n",
      "Date                     0.000000\n",
      "Time                     0.000000\n",
      "Global_active_power      1.251844\n",
      "Global_reactive_power    1.251844\n",
      "Voltage                  1.251844\n",
      "Global_intensity         1.251844\n",
      "Sub_metering_1           1.251844\n",
      "Sub_metering_2           1.251844\n",
      "Sub_metering_3           1.251844\n",
      "dtype: float64\n"
     ]
    }
   ],
   "source": [
    "\n",
    "# Calculate the percentage of missing values\n",
    "total_rows = len(df)\n",
    "missing_percentage = (missing_values / total_rows) * 100\n",
    "print(\"\\nPercentage of missing values per column:\")\n",
    "print(missing_percentage)"
   ]
  },
  {
   "cell_type": "markdown",
   "id": "b29e27c9-fbe2-42df-9566-25c8963addcb",
   "metadata": {},
   "source": [
    "## Step 2: Handle Missing Values\n",
    "Based on the results from Step 1, you can decide how to handle the missing values. The original code used fillna(df.mean()), which fills missing values with the mean of the respective column. However, this might not always be the best approach. Let's consider a few options:\n",
    "\n",
    "Mean Imputation: It's simple but can distort the distribution of the data. \\\n",
    "Median Imputation: This can be less sensitive to outliers than mean imputation.\\\n",
    "Forward Fill: This method uses the last valid observation to fill the missing value.\\\n",
    "Backward Fill: This method uses the next valid observation to fill the missing value.\n",
    "\n",
    "At this stage we will remove the rows with the missing values "
   ]
  },
  {
   "cell_type": "code",
   "execution_count": 8,
   "id": "3c63506c-6f05-41e0-9b08-dad46b1a46bc",
   "metadata": {},
   "outputs": [
    {
     "name": "stdout",
     "output_type": "stream",
     "text": [
      "\n",
      "Missing values per column after removal:\n",
      "Date                     0\n",
      "Time                     0\n",
      "Global_active_power      0\n",
      "Global_reactive_power    0\n",
      "Voltage                  0\n",
      "Global_intensity         0\n",
      "Sub_metering_1           0\n",
      "Sub_metering_2           0\n",
      "Sub_metering_3           0\n",
      "dtype: int64\n",
      "\n",
      "Percentage of missing values per column after removal:\n",
      "Date                     0.0\n",
      "Time                     0.0\n",
      "Global_active_power      0.0\n",
      "Global_reactive_power    0.0\n",
      "Voltage                  0.0\n",
      "Global_intensity         0.0\n",
      "Sub_metering_1           0.0\n",
      "Sub_metering_2           0.0\n",
      "Sub_metering_3           0.0\n",
      "dtype: float64\n"
     ]
    }
   ],
   "source": [
    "\n",
    "\n",
    "# Remove rows with missing data\n",
    "df_cleaned = df.dropna()\n",
    "\n",
    "# Check for missing values after removal\n",
    "missing_values_after = df_cleaned.isnull().sum()\n",
    "print(\"\\nMissing values per column after removal:\")\n",
    "print(missing_values_after)\n",
    "\n",
    "# Calculate the percentage of missing values after removal\n",
    "total_rows_after = len(df_cleaned)\n",
    "missing_percentage_after = (missing_values_after / total_rows_after) * 100\n",
    "print(\"\\nPercentage of missing values per column after removal:\")\n",
    "print(missing_percentage_after)\n",
    "\n"
   ]
  },
  {
   "cell_type": "code",
   "execution_count": 9,
   "id": "cfeae1c6-56d8-4159-811b-a3bd0dc6c5a4",
   "metadata": {},
   "outputs": [
    {
     "data": {
      "text/plain": [
       "(2049280, 9)"
      ]
     },
     "execution_count": 9,
     "metadata": {},
     "output_type": "execute_result"
    }
   ],
   "source": [
    "df_cleaned.shape"
   ]
  },
  {
   "cell_type": "markdown",
   "id": "a90134d8-6812-4942-9893-e5064f86d31a",
   "metadata": {},
   "source": [
    "## Step 3: Check and Convert Data Types\n",
    "Now, let's check the data types of each column and convert them as needed:\n",
    "\n",
    "\n"
   ]
  },
  {
   "cell_type": "code",
   "execution_count": 12,
   "id": "fcc14773-362f-40de-8f6c-45d08c1d1c40",
   "metadata": {},
   "outputs": [
    {
     "name": "stdout",
     "output_type": "stream",
     "text": [
      "Current data types:\n",
      "Date                             object\n",
      "Time                             object\n",
      "Global_active_power             float64\n",
      "Global_reactive_power           float64\n",
      "Voltage                         float64\n",
      "Global_intensity                float64\n",
      "Sub_metering_1                  float64\n",
      "Sub_metering_2                  float64\n",
      "Sub_metering_3                  float64\n",
      "datetime                 datetime64[ns]\n",
      "dtype: object\n",
      "\n",
      "New data types:\n",
      "Date                             object\n",
      "Time                             object\n",
      "Global_active_power             float64\n",
      "Global_reactive_power           float64\n",
      "Voltage                         float64\n",
      "Global_intensity                float64\n",
      "Sub_metering_1                  float64\n",
      "Sub_metering_2                  float64\n",
      "Sub_metering_3                  float64\n",
      "datetime                 datetime64[ns]\n",
      "dtype: object\n"
     ]
    }
   ],
   "source": [
    "# Check current data types\n",
    "print(\"Current data types:\")\n",
    "print(df.dtypes)\n",
    "\n",
    "# Convert date and time to datetime\n",
    "df['datetime'] = pd.to_datetime(df['Date'] + ' ' + df['Time'], format='%d/%m/%Y %H:%M:%S')\n",
    "\n",
    "# Convert columns 3-8 to float64\n",
    "numeric_columns = ['Global_active_power', 'Global_reactive_power', 'Voltage', 'Global_intensity', \n",
    "                   'Sub_metering_1', 'Sub_metering_2', 'Sub_metering_3']\n",
    "for col in numeric_columns:\n",
    "    df[col] = pd.to_numeric(df[col], errors='coerce')\n",
    "\n",
    "# Check new data types\n",
    "print(\"\\nNew data types:\")\n",
    "print(df.dtypes)"
   ]
  },
  {
   "cell_type": "markdown",
   "id": "d47aa870-8601-4f22-bcf6-e6acffe74e0d",
   "metadata": {},
   "source": [
    "## Step 4: Create New Features\n",
    "\n",
    "Now, let's create new features and explain why we're doing this:\n",
    "\n",
    "### Explanation of new features:\n",
    "\n",
    "- **total_energy**: This feature represents the active energy consumed every minute (in watt-hour) by electrical equipment not measured in sub-meterings 1, 2, and 3. It's calculated as per the dataset description:  \n",
    "  \n",
    "  \\[ \\text{total_energy} = \\left( \\text{global_active_power} \\times 1000 / 60 \\right) - \\text{sub_metering_1} - \\text{sub_metering_2} - \\text{sub_metering_3} \\]\n",
    "\n",
    "- **day_of_week**: This feature can help identify weekly patterns in energy consumption. It's derived from the `datetime` column.\n",
    "\n",
    "- **month**: This feature can help identify monthly patterns or seasonal trends in energy consumption. It's derived from the `datetime` column.\n",
    "\n",
    "- **year**: This feature can help analyze year-over-year changes in energy consumption. It's derived from the `datetime` column.\n",
    "\n",
    "These new features can be useful for time series analysis, pattern recognition, and feature engineering for machine learning models.\n",
    "\n"
   ]
  },
  {
   "cell_type": "code",
   "execution_count": 14,
   "id": "4f6732a0-d430-4e44-9366-e86934d8cc6e",
   "metadata": {},
   "outputs": [
    {
     "name": "stdout",
     "output_type": "stream",
     "text": [
      "\n",
      "New columns added:\n",
      "Index(['Date', 'Time', 'Global_active_power', 'Global_reactive_power',\n",
      "       'Voltage', 'Global_intensity', 'Sub_metering_1', 'Sub_metering_2',\n",
      "       'Sub_metering_3', 'datetime', 'total_energy', 'day_of_week', 'month',\n",
      "       'year'],\n",
      "      dtype='object')\n"
     ]
    }
   ],
   "source": [
    "# Create new features\n",
    "df['total_energy'] = df['Global_active_power'] * 1000 / 60 - df['Sub_metering_1'] - df['Sub_metering_2'] - df['Sub_metering_3']\n",
    "df['day_of_week'] = df['datetime'].dt.dayofweek\n",
    "df['month'] = df['datetime'].dt.month\n",
    "df['year'] = df['datetime'].dt.year\n",
    "\n",
    "# Check new columns\n",
    "print(\"\\nNew columns added:\")\n",
    "print(df.columns)"
   ]
  },
  {
   "cell_type": "markdown",
   "id": "99da153c-4d08-4c89-ae37-1b0fb627959d",
   "metadata": {},
   "source": [
    "## Step 5: Save Cleaned Data\n",
    "Finally, let's save the cleaned and wrangled data:"
   ]
  },
  {
   "cell_type": "code",
   "execution_count": 15,
   "id": "2f7f7e79-4a63-434e-aa7b-9bc184ea5f56",
   "metadata": {},
   "outputs": [
    {
     "name": "stdout",
     "output_type": "stream",
     "text": [
      "\n",
      "Cleaned data saved to '/Users/bkh42/Downloads/cleaned_household_energy_consumption.csv'\n"
     ]
    }
   ],
   "source": [
    "# Save cleaned data\n",
    "df.to_csv('/Users/bkh42/Downloads/cleaned_household_energy_consumption.csv', index=False)\n",
    "print(\"\\nCleaned data saved to '/Users/bkh42/Downloads/cleaned_household_energy_consumption.csv'\")"
   ]
  },
  {
   "cell_type": "code",
   "execution_count": null,
   "id": "10cbb226-83c9-4f78-a4a0-93a86a0c783e",
   "metadata": {},
   "outputs": [],
   "source": []
  }
 ],
 "metadata": {
  "kernelspec": {
   "display_name": "Python 3 (ipykernel)",
   "language": "python",
   "name": "python3"
  },
  "language_info": {
   "codemirror_mode": {
    "name": "ipython",
    "version": 3
   },
   "file_extension": ".py",
   "mimetype": "text/x-python",
   "name": "python",
   "nbconvert_exporter": "python",
   "pygments_lexer": "ipython3",
   "version": "3.11.2"
  }
 },
 "nbformat": 4,
 "nbformat_minor": 5
}
